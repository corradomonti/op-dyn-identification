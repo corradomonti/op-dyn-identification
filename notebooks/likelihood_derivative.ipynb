{
 "cells": [
  {
   "cell_type": "code",
   "execution_count": 1,
   "id": "46cd5c90-2b6a-4365-aed2-3af9b045385b",
   "metadata": {},
   "outputs": [
    {
     "name": "stdout",
     "output_type": "stream",
     "text": [
      "/usr/bin/latex\n"
     ]
    }
   ],
   "source": [
    "!which latex"
   ]
  },
  {
   "cell_type": "code",
   "execution_count": 2,
   "id": "28358f25-36b1-49a1-b330-fd2aad65de96",
   "metadata": {},
   "outputs": [],
   "source": [
    "import sys\n",
    "import traceback\n",
    "from os.path import join as joinp\n",
    "\n",
    "import numpy as np\n",
    "\n",
    "import sklearn.metrics\n",
    "\n",
    "from matplotlib import pyplot as plt\n",
    "\n",
    "from tqdm import tqdm"
   ]
  },
  {
   "cell_type": "code",
   "execution_count": 3,
   "id": "877712e0-58d8-4c31-98d0-f4e393711c3a",
   "metadata": {},
   "outputs": [],
   "source": [
    "sys.path.append('../src/')"
   ]
  },
  {
   "cell_type": "code",
   "execution_count": 6,
   "id": "4d68e56b-8708-45dc-ac62-129e66412ef3",
   "metadata": {},
   "outputs": [],
   "source": [
    "k = lambda x, beta: 1. / (1 + np.exp(-beta * x))"
   ]
  },
  {
   "cell_type": "code",
   "execution_count": 7,
   "id": "53c4d936-1d80-43e4-ae80-cdad2bbfb061",
   "metadata": {},
   "outputs": [],
   "source": [
    "import os\n",
    "import seaborn as sb"
   ]
  },
  {
   "cell_type": "code",
   "execution_count": 8,
   "id": "ce809f13-bf09-477f-9173-a174e6446c37",
   "metadata": {},
   "outputs": [],
   "source": [
    "def generate_dynamics(N, T, interactions_per_timestep=1, mu=0.5, eps=.25, beta=50, x0=None, seed=None):\n",
    "    if seed is not None:\n",
    "        np.random.seed(seed)\n",
    "        \n",
    "    sigmoid = lambda x: 1. / (1 + np.exp(-beta * x))\n",
    "    \n",
    "    if x0 is None:\n",
    "        x0 = np.random.uniform(size=N) * 2 - 1\n",
    "        print(x0)\n",
    "    \n",
    "    u_v_t_w = []\n",
    "    \n",
    "    t = 0\n",
    "    X = [x0]\n",
    "    count = [0]\n",
    "    for t in range(T):\n",
    "        xt = X[-1]\n",
    "        ct = 0\n",
    "        xtp1 = xt.copy()\n",
    "        for _ in range(interactions_per_timestep):\n",
    "            i = np.random.randint(N)\n",
    "            while True:\n",
    "                j = np.random.randint(N)\n",
    "                if i != j: break\n",
    "\n",
    "            dist = np.abs(xt[i] - xt[j])\n",
    "            p = sigmoid(eps-dist)\n",
    "            extraction = np.random.uniform()\n",
    "            if p>=extraction:\n",
    "                if dist>eps:\n",
    "                    ct+=1\n",
    "                xtp1[i] += mu * (xt[j] - xt[i])\n",
    "                xtp1[j] += mu * (xt[i] - xt[j])\n",
    "                u_v_t_w.append( (i, j, t, 1) )\n",
    "            else:\n",
    "                u_v_t_w.append( (i, j, t, 0) )\n",
    "            xtp1 = np.clip(xtp1, -1, 1)\n",
    "        \n",
    "        X.append(xtp1)\n",
    "        count.append(ct)\n",
    "\n",
    "    X = np.vstack(X)\n",
    "\n",
    "    return u_v_t_w, X, count"
   ]
  },
  {
   "cell_type": "markdown",
   "id": "fd9d11b3-ab5b-4952-a555-d1435b48febd",
   "metadata": {},
   "source": [
    "# Learnable BCM"
   ]
  },
  {
   "cell_type": "markdown",
   "id": "7441b258-9954-480e-a20b-1e86640ae2d5",
   "metadata": {
    "tags": []
   },
   "source": [
    "## Many trials, Complete derivative in $\\beta, \\epsilon$, N=100"
   ]
  },
  {
   "cell_type": "code",
   "execution_count": 9,
   "id": "2c9ddeba-243e-4ea1-9185-d3df8794baec",
   "metadata": {},
   "outputs": [],
   "source": [
    "N = 100\n",
    "T = 10000\n",
    "mu = 0.5\n",
    "eps = 0.25\n",
    "beta = 60"
   ]
  },
  {
   "cell_type": "code",
   "execution_count": 10,
   "id": "bd1984e4-e223-436e-909a-fae85b8485b7",
   "metadata": {},
   "outputs": [],
   "source": [
    "plt.rcParams['text.usetex'] = True"
   ]
  },
  {
   "cell_type": "code",
   "execution_count": 11,
   "id": "86341d14-96e9-4dca-b3a7-585ed5d8c249",
   "metadata": {},
   "outputs": [
    {
     "data": {
      "text/plain": [
       "Text(0.5, 0, '$\\\\lambda$')"
      ]
     },
     "execution_count": 11,
     "metadata": {},
     "output_type": "execute_result"
    },
    {
     "data": {
      "image/png": "[encoded data removed]",
      "text/plain": [
       "<Figure size 640x480 with 1 Axes>"
      ]
     },
     "metadata": {},
     "output_type": "display_data"
    }
   ],
   "source": [
    "plt.plot(np.arange(-2, 2, 0.01), [k(x, beta) for x in np.arange(-2, 2, 0.01)])\n",
    "plt.xlabel(r'$\\lambda$')"
   ]
  },
  {
   "cell_type": "code",
   "execution_count": 12,
   "id": "3389ca57-6276-4f28-a5a8-480dd9f6cfb8",
   "metadata": {},
   "outputs": [
    {
     "name": "stderr",
     "output_type": "stream",
     "text": [
      "100%|███████████████████████████████████████████████████████████████████████████████████████████████████████████████████████████████████████████████████████████████████████████████| 100/100 [09:27<00:00,  5.67s/it]\n"
     ]
    }
   ],
   "source": [
    "# beta_range = np.linspace(59, 61, 3)\n",
    "eps_range = np.linspace(0., 2., 101)\n",
    "\n",
    "seed_list = []\n",
    "all_res = []\n",
    "\n",
    "seed = 0\n",
    "np.random.seed(seed)\n",
    "x0 = np.random.uniform(size=N) * 2 - 1\n",
    "\n",
    "for trial in tqdm(range(100)):\n",
    "    # print(f\"trial {trial+1}/100\")\n",
    "    while True:\n",
    "        seed = np.random.randint(0, 3000)\n",
    "        if seed not in seed_list:\n",
    "            break\n",
    "            \n",
    "    seed_list.append(seed)\n",
    "\n",
    "    Et, X, _ = generate_dynamics(N, T, interactions_per_timestep=1, mu=mu, eps=eps, beta=beta, x0=x0, seed=seed)\n",
    "    Et = np.array(Et)\n",
    "    sizeE = np.sum(Et[Et[:, -1]==1, -1], axis=0)\n",
    "\n",
    "    res = []\n",
    "    for eps_hat in eps_range:\n",
    "        single_res = []\n",
    "        # for beta_hat in beta_range:\n",
    "        beta_hat = beta\n",
    "        s = 0\n",
    "        sk = 0\n",
    "        sdist = 0\n",
    "        for i, j, t, state in Et:\n",
    "            dist = np.abs(X[t, i]-X[t, j])\n",
    "            s+=k(eps_hat-dist, beta_hat)\n",
    "            sk+=k(eps_hat-dist, beta_hat)*dist\n",
    "            if state == 1:\n",
    "                sdist+=dist\n",
    "\n",
    "        single_res.append([eps_hat, beta_hat, s-sizeE, sk-sdist, eps*(s-sizeE)-sk+sdist])\n",
    "        res.append(single_res)\n",
    "    all_res.append(res)"
   ]
  },
  {
   "cell_type": "code",
   "execution_count": 13,
   "id": "5b22968f-ab01-488e-8306-1ae37a5b74a7",
   "metadata": {},
   "outputs": [],
   "source": [
    "all_res = np.array(all_res)"
   ]
  },
  {
   "cell_type": "code",
   "execution_count": 15,
   "id": "760b8756-8c44-42bc-9eb6-9e612f3a57ae",
   "metadata": {},
   "outputs": [],
   "source": [
    "sb.set_theme(style=\"ticks\", context=\"notebook\", font=\"Arial\")"
   ]
  },
  {
   "cell_type": "code",
   "execution_count": 17,
   "id": "2928734d-18d6-42d0-ad4d-0df364b14c3c",
   "metadata": {},
   "outputs": [
    {
     "data": {
      "image/png": "[encoded data removed]",
      "text/plain": [
       "<Figure size 500x300 with 1 Axes>"
      ]
     },
     "metadata": {},
     "output_type": "display_data"
    }
   ],
   "source": [
    "plt.figure(figsize=(5, 3))\n",
    "plt.plot(eps_range, -all_res[:, :, 0, 2].T, c='grey', alpha=.1, label='single realization');\n",
    "plt.plot(eps_range, -all_res[:, :, 0, 2].mean(axis=0), c='r', lw=2, label='mean');\n",
    "plt.axhline(0, c='b', ls='--')\n",
    "plt.axvline(eps, c='black', ls='--', label=r'$\\varepsilon*$')\n",
    "handles, labels = plt.gca().get_legend_handles_labels()\n",
    "plt.legend(handles[-3:], labels[-3:], loc='best', fontsize=7)\n",
    "plt.xlabel(r'$\\varepsilon$')\n",
    "plt.ylabel(r'$\\frac{\\partial\\log\\mathcal{L}}{\\partial\\varepsilon}(\\varepsilon)|_{\\mu*, \\beta*}$')\n",
    "\n",
    "sb.despine()\n",
    "plt.tight_layout()\n",
    "plt.savefig(os.path.join('../', 'figs', f\"{N}_{T}_{eps}_{beta}_{mu}_dL_deps.pdf\"))"
   ]
  }
 ],
 "metadata": {
  "kernelspec": {
   "display_name": "opdyn_basic",
   "language": "python",
   "name": "opdyn_basic"
  },
  "language_info": {
   "codemirror_mode": {
    "name": "ipython",
    "version": 3
   },
   "file_extension": ".py",
   "mimetype": "text/x-python",
   "name": "python",
   "nbconvert_exporter": "python",
   "pygments_lexer": "ipython3",
   "version": "3.10.6"
  }
 },
 "nbformat": 4,
 "nbformat_minor": 5
}
